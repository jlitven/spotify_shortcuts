{
 "cells": [
  {
   "cell_type": "markdown",
   "metadata": {},
   "source": [
    "# Spotipy Tutorial\n",
    "In this tutorial I'll show you how to perform some basic tasks in Spotify using\n",
    "the Python library: Spotipy.\n",
    "\n",
    "Installation Instructions: http://spotipy.readthedocs.io/en/latest/"
   ]
  },
  {
   "cell_type": "code",
   "execution_count": 14,
   "metadata": {
    "collapsed": false
   },
   "outputs": [
    {
     "name": "stdout",
     "output_type": "stream",
     "text": [
      "[u'dance pop', u'europop', u'new wave pop', u'pop', u'pop rock', u'post-teen pop', u'r&b', u'urban contemporary']\n"
     ]
    }
   ],
   "source": [
    "# Spotipy is a Python wrapper for the Spotify Web API\n",
    "# Let's see a simple example\n",
    "import spotipy\n",
    "spotify = spotipy.Spotify()\n",
    "results = spotify.search(q='artist:Madonna', type='artist')\n",
    "print results['artists']['items'][0]['genres']"
   ]
  },
  {
   "cell_type": "code",
   "execution_count": 15,
   "metadata": {
    "collapsed": true
   },
   "outputs": [],
   "source": [
    "# Access to a user's collection requires user authentication\n",
    "import sys\n",
    "import spotipy\n",
    "import spotipy.util as util\n",
    "\n",
    "def get_user_token(username='1212629687', # your username here\n",
    "                   scope='playlist-modify-private'): # TODO: change\n",
    "    \"\"\"Get the token for the given user and scope\"\"\"\n",
    "    token = util.prompt_for_user_token(username, scope)\n",
    "    return token\n",
    "\n",
    "def add_track_to_saved_tracks(track_uri):\n",
    "    \"\"\"Add the track to the current user's collection\"\"\"\n",
    "    token = get_user_token()\n",
    "    spotify = spotipy.Spotify(auth=token)\n",
    "    spotify.current_user_saved_tracks_add([track_uri])"
   ]
  },
  {
   "cell_type": "code",
   "execution_count": null,
   "metadata": {
    "collapsed": false
   },
   "outputs": [
    {
     "name": "stdout",
     "output_type": "stream",
     "text": [
      "\n",
      "\n",
      "            User authentication requires interaction with your\n",
      "            web browser. Once you enter your credentials and\n",
      "            give authorization, you will be redirected to\n",
      "            a url.  Paste that url you were directed to to\n",
      "            complete the authorization.\n",
      "\n",
      "        \n",
      "Opening https://accounts.spotify.com/authorize?scope=playlist-modify-private&redirect_uri=http%3A%2F%2Flocalhost%3A8888%2Fcallback&response_type=code&client_id=e74c52988f6d4bcebb36970a423d348d in your browser\n",
      "\n",
      "\n"
     ]
    }
   ],
   "source": [
    "track_uri = 'spotify:track:5VvR8ub7sv0x27WYlDgWIt'\n",
    "add_track_to_saved_tracks(track_uri)"
   ]
  },
  {
   "cell_type": "code",
   "execution_count": null,
   "metadata": {
    "collapsed": true
   },
   "outputs": [],
   "source": [
    "util.prompt_for_user_token"
   ]
  }
 ],
 "metadata": {
  "kernelspec": {
   "display_name": "Python 2",
   "language": "python",
   "name": "python2"
  },
  "language_info": {
   "codemirror_mode": {
    "name": "ipython",
    "version": 2
   },
   "file_extension": ".py",
   "mimetype": "text/x-python",
   "name": "python",
   "nbconvert_exporter": "python",
   "pygments_lexer": "ipython2",
   "version": "2.7.12"
  }
 },
 "nbformat": 4,
 "nbformat_minor": 0
}
